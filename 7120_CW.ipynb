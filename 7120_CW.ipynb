{
  "cells": [
    {
      "cell_type": "markdown",
      "metadata": {
        "id": "view-in-github",
        "colab_type": "text"
      },
      "source": [
        "<a href=\"https://colab.research.google.com/github/akpanitorobong/7120CEM-Natural_Language_Processing/blob/main/7120_CW.ipynb\" target=\"_parent\"><img src=\"https://colab.research.google.com/assets/colab-badge.svg\" alt=\"Open In Colab\"/></a>"
      ]
    },
    {
      "cell_type": "markdown",
      "metadata": {
        "id": "cXam3Ak2fgt8"
      },
      "source": [
        "# **1.) Project preparation**"
      ]
    },
    {
      "cell_type": "markdown",
      "metadata": {
        "id": "0c_YldGU75_k"
      },
      "source": [
        "**Neccessary Imports**"
      ]
    },
    {
      "cell_type": "code",
      "execution_count": 1,
      "metadata": {
        "colab": {
          "base_uri": "https://localhost:8080/"
        },
        "id": "QhjpiBdz8E-f",
        "outputId": "b6d2ea71-5343-4741-8cc2-8878af412e71"
      },
      "outputs": [
        {
          "output_type": "stream",
          "name": "stdout",
          "text": [
            "Requirement already satisfied: gensim in /usr/local/lib/python3.11/dist-packages (4.3.3)\n",
            "Requirement already satisfied: nltk in /usr/local/lib/python3.11/dist-packages (3.9.1)\n",
            "Requirement already satisfied: tensorflow in /usr/local/lib/python3.11/dist-packages (2.18.0)\n",
            "Requirement already satisfied: keras in /usr/local/lib/python3.11/dist-packages (3.8.0)\n",
            "Collecting imblearn\n",
            "  Downloading imblearn-0.0-py2.py3-none-any.whl.metadata (355 bytes)\n",
            "Collecting contractions\n",
            "  Downloading contractions-0.1.73-py2.py3-none-any.whl.metadata (1.2 kB)\n",
            "Collecting emoji\n",
            "  Downloading emoji-2.14.1-py3-none-any.whl.metadata (5.7 kB)\n",
            "Requirement already satisfied: numpy<2.0,>=1.18.5 in /usr/local/lib/python3.11/dist-packages (from gensim) (1.26.4)\n",
            "Requirement already satisfied: scipy<1.14.0,>=1.7.0 in /usr/local/lib/python3.11/dist-packages (from gensim) (1.13.1)\n",
            "Requirement already satisfied: smart-open>=1.8.1 in /usr/local/lib/python3.11/dist-packages (from gensim) (7.1.0)\n",
            "Requirement already satisfied: click in /usr/local/lib/python3.11/dist-packages (from nltk) (8.1.8)\n",
            "Requirement already satisfied: joblib in /usr/local/lib/python3.11/dist-packages (from nltk) (1.4.2)\n",
            "Requirement already satisfied: regex>=2021.8.3 in /usr/local/lib/python3.11/dist-packages (from nltk) (2024.11.6)\n",
            "Requirement already satisfied: tqdm in /usr/local/lib/python3.11/dist-packages (from nltk) (4.67.1)\n",
            "Requirement already satisfied: absl-py>=1.0.0 in /usr/local/lib/python3.11/dist-packages (from tensorflow) (1.4.0)\n",
            "Requirement already satisfied: astunparse>=1.6.0 in /usr/local/lib/python3.11/dist-packages (from tensorflow) (1.6.3)\n",
            "Requirement already satisfied: flatbuffers>=24.3.25 in /usr/local/lib/python3.11/dist-packages (from tensorflow) (25.2.10)\n",
            "Requirement already satisfied: gast!=0.5.0,!=0.5.1,!=0.5.2,>=0.2.1 in /usr/local/lib/python3.11/dist-packages (from tensorflow) (0.6.0)\n",
            "Requirement already satisfied: google-pasta>=0.1.1 in /usr/local/lib/python3.11/dist-packages (from tensorflow) (0.2.0)\n",
            "Requirement already satisfied: libclang>=13.0.0 in /usr/local/lib/python3.11/dist-packages (from tensorflow) (18.1.1)\n",
            "Requirement already satisfied: opt-einsum>=2.3.2 in /usr/local/lib/python3.11/dist-packages (from tensorflow) (3.4.0)\n",
            "Requirement already satisfied: packaging in /usr/local/lib/python3.11/dist-packages (from tensorflow) (24.2)\n",
            "Requirement already satisfied: protobuf!=4.21.0,!=4.21.1,!=4.21.2,!=4.21.3,!=4.21.4,!=4.21.5,<6.0.0dev,>=3.20.3 in /usr/local/lib/python3.11/dist-packages (from tensorflow) (4.25.6)\n",
            "Requirement already satisfied: requests<3,>=2.21.0 in /usr/local/lib/python3.11/dist-packages (from tensorflow) (2.32.3)\n",
            "Requirement already satisfied: setuptools in /usr/local/lib/python3.11/dist-packages (from tensorflow) (75.1.0)\n",
            "Requirement already satisfied: six>=1.12.0 in /usr/local/lib/python3.11/dist-packages (from tensorflow) (1.17.0)\n",
            "Requirement already satisfied: termcolor>=1.1.0 in /usr/local/lib/python3.11/dist-packages (from tensorflow) (2.5.0)\n",
            "Requirement already satisfied: typing-extensions>=3.6.6 in /usr/local/lib/python3.11/dist-packages (from tensorflow) (4.12.2)\n",
            "Requirement already satisfied: wrapt>=1.11.0 in /usr/local/lib/python3.11/dist-packages (from tensorflow) (1.17.2)\n",
            "Requirement already satisfied: grpcio<2.0,>=1.24.3 in /usr/local/lib/python3.11/dist-packages (from tensorflow) (1.70.0)\n",
            "Requirement already satisfied: tensorboard<2.19,>=2.18 in /usr/local/lib/python3.11/dist-packages (from tensorflow) (2.18.0)\n",
            "Requirement already satisfied: h5py>=3.11.0 in /usr/local/lib/python3.11/dist-packages (from tensorflow) (3.12.1)\n",
            "Requirement already satisfied: ml-dtypes<0.5.0,>=0.4.0 in /usr/local/lib/python3.11/dist-packages (from tensorflow) (0.4.1)\n",
            "Requirement already satisfied: tensorflow-io-gcs-filesystem>=0.23.1 in /usr/local/lib/python3.11/dist-packages (from tensorflow) (0.37.1)\n",
            "Requirement already satisfied: rich in /usr/local/lib/python3.11/dist-packages (from keras) (13.9.4)\n",
            "Requirement already satisfied: namex in /usr/local/lib/python3.11/dist-packages (from keras) (0.0.8)\n",
            "Requirement already satisfied: optree in /usr/local/lib/python3.11/dist-packages (from keras) (0.14.0)\n",
            "Requirement already satisfied: imbalanced-learn in /usr/local/lib/python3.11/dist-packages (from imblearn) (0.13.0)\n",
            "Collecting textsearch>=0.0.21 (from contractions)\n",
            "  Downloading textsearch-0.0.24-py2.py3-none-any.whl.metadata (1.2 kB)\n",
            "Requirement already satisfied: wheel<1.0,>=0.23.0 in /usr/local/lib/python3.11/dist-packages (from astunparse>=1.6.0->tensorflow) (0.45.1)\n",
            "Requirement already satisfied: charset-normalizer<4,>=2 in /usr/local/lib/python3.11/dist-packages (from requests<3,>=2.21.0->tensorflow) (3.4.1)\n",
            "Requirement already satisfied: idna<4,>=2.5 in /usr/local/lib/python3.11/dist-packages (from requests<3,>=2.21.0->tensorflow) (3.10)\n",
            "Requirement already satisfied: urllib3<3,>=1.21.1 in /usr/local/lib/python3.11/dist-packages (from requests<3,>=2.21.0->tensorflow) (2.3.0)\n",
            "Requirement already satisfied: certifi>=2017.4.17 in /usr/local/lib/python3.11/dist-packages (from requests<3,>=2.21.0->tensorflow) (2025.1.31)\n",
            "Requirement already satisfied: markdown>=2.6.8 in /usr/local/lib/python3.11/dist-packages (from tensorboard<2.19,>=2.18->tensorflow) (3.7)\n",
            "Requirement already satisfied: tensorboard-data-server<0.8.0,>=0.7.0 in /usr/local/lib/python3.11/dist-packages (from tensorboard<2.19,>=2.18->tensorflow) (0.7.2)\n",
            "Requirement already satisfied: werkzeug>=1.0.1 in /usr/local/lib/python3.11/dist-packages (from tensorboard<2.19,>=2.18->tensorflow) (3.1.3)\n",
            "Collecting anyascii (from textsearch>=0.0.21->contractions)\n",
            "  Downloading anyascii-0.3.2-py3-none-any.whl.metadata (1.5 kB)\n",
            "Collecting pyahocorasick (from textsearch>=0.0.21->contractions)\n",
            "  Downloading pyahocorasick-2.1.0-cp311-cp311-manylinux_2_17_x86_64.manylinux2014_x86_64.whl.metadata (13 kB)\n",
            "Requirement already satisfied: scikit-learn<2,>=1.3.2 in /usr/local/lib/python3.11/dist-packages (from imbalanced-learn->imblearn) (1.6.1)\n",
            "Requirement already satisfied: sklearn-compat<1,>=0.1 in /usr/local/lib/python3.11/dist-packages (from imbalanced-learn->imblearn) (0.1.3)\n",
            "Requirement already satisfied: threadpoolctl<4,>=2.0.0 in /usr/local/lib/python3.11/dist-packages (from imbalanced-learn->imblearn) (3.5.0)\n",
            "Requirement already satisfied: markdown-it-py>=2.2.0 in /usr/local/lib/python3.11/dist-packages (from rich->keras) (3.0.0)\n",
            "Requirement already satisfied: pygments<3.0.0,>=2.13.0 in /usr/local/lib/python3.11/dist-packages (from rich->keras) (2.18.0)\n",
            "Requirement already satisfied: mdurl~=0.1 in /usr/local/lib/python3.11/dist-packages (from markdown-it-py>=2.2.0->rich->keras) (0.1.2)\n",
            "Requirement already satisfied: MarkupSafe>=2.1.1 in /usr/local/lib/python3.11/dist-packages (from werkzeug>=1.0.1->tensorboard<2.19,>=2.18->tensorflow) (3.0.2)\n",
            "Downloading imblearn-0.0-py2.py3-none-any.whl (1.9 kB)\n",
            "Downloading contractions-0.1.73-py2.py3-none-any.whl (8.7 kB)\n",
            "Downloading emoji-2.14.1-py3-none-any.whl (590 kB)\n",
            "\u001b[2K   \u001b[90m━━━━━━━━━━━━━━━━━━━━━━━━━━━━━━━━━━━━━━━━\u001b[0m \u001b[32m590.6/590.6 kB\u001b[0m \u001b[31m15.2 MB/s\u001b[0m eta \u001b[36m0:00:00\u001b[0m\n",
            "\u001b[?25hDownloading textsearch-0.0.24-py2.py3-none-any.whl (7.6 kB)\n",
            "Downloading anyascii-0.3.2-py3-none-any.whl (289 kB)\n",
            "\u001b[2K   \u001b[90m━━━━━━━━━━━━━━━━━━━━━━━━━━━━━━━━━━━━━━━━\u001b[0m \u001b[32m289.9/289.9 kB\u001b[0m \u001b[31m18.1 MB/s\u001b[0m eta \u001b[36m0:00:00\u001b[0m\n",
            "\u001b[?25hDownloading pyahocorasick-2.1.0-cp311-cp311-manylinux_2_17_x86_64.manylinux2014_x86_64.whl (118 kB)\n",
            "\u001b[2K   \u001b[90m━━━━━━━━━━━━━━━━━━━━━━━━━━━━━━━━━━━━━━━━\u001b[0m \u001b[32m118.3/118.3 kB\u001b[0m \u001b[31m4.8 MB/s\u001b[0m eta \u001b[36m0:00:00\u001b[0m\n",
            "\u001b[?25hInstalling collected packages: pyahocorasick, emoji, anyascii, textsearch, contractions, imblearn\n",
            "Successfully installed anyascii-0.3.2 contractions-0.1.73 emoji-2.14.1 imblearn-0.0 pyahocorasick-2.1.0 textsearch-0.0.24\n",
            "GPU Available: []\n"
          ]
        },
        {
          "output_type": "stream",
          "name": "stderr",
          "text": [
            "[nltk_data] Downloading package punkt to /root/nltk_data...\n",
            "[nltk_data]   Unzipping tokenizers/punkt.zip.\n",
            "[nltk_data] Downloading package wordnet to /root/nltk_data...\n",
            "[nltk_data] Downloading package stopwords to /root/nltk_data...\n",
            "[nltk_data]   Unzipping corpora/stopwords.zip.\n"
          ]
        },
        {
          "output_type": "execute_result",
          "data": {
            "text/plain": [
              "True"
            ]
          },
          "metadata": {},
          "execution_count": 1
        }
      ],
      "source": [
        "# Install required resources\n",
        "!pip install --upgrade gensim nltk tensorflow keras imblearn contractions emoji\n",
        "\n",
        "# Import required libraries\n",
        "import os\n",
        "import numpy as np  # Numerical operations\n",
        "import pandas as pd  # Data handling\n",
        "import codecs #handle punctuations\n",
        "import nltk  # Natural Language Toolkit (NLTK)\n",
        "import contractions #handle word contractions\n",
        "import emoji #handle emojis\n",
        "from nltk.corpus import stopwords  # Stopword removal\n",
        "from nltk.tokenize import word_tokenize  # Tokenization\n",
        "from nltk.stem import WordNetLemmatizer  # Lemmatization\n",
        "import re  # Regular expressions for text cleaning\n",
        "import gensim.downloader as api  # Pre-trained embeddings\n",
        "from collections import Counter  # Word frequency analysis\n",
        "import matplotlib.pyplot as plt  # Visualization\n",
        "import seaborn as sns  # Statistical visualization\n",
        "import tensorflow as tf\n",
        "print(\"GPU Available:\", tf.config.list_physical_devices('GPU'))\n",
        "from bs4 import BeautifulSoup  # HTML tag removal\n",
        "from imblearn.over_sampling import RandomOverSampler  # Class balancing\n",
        "from imblearn.over_sampling import SMOTE  # Class balancing\n",
        "from tensorflow.keras.preprocessing.text import Tokenizer  # Text tokenization\n",
        "from tensorflow.keras.preprocessing.sequence import pad_sequences  # Padding sequences\n",
        "from sklearn.model_selection import train_test_split, RandomizedSearchCV  # Import RandomizedSearchCV\n",
        "from sklearn.feature_extraction.text import CountVectorizer, TfidfVectorizer  # Feature extraction\n",
        "from sklearn.metrics import accuracy_score, classification_report, confusion_matrix, precision_score, recall_score, f1_score # Model evaluation\n",
        "from sklearn.linear_model import LogisticRegression  # ML model\n",
        "from sklearn.ensemble import RandomForestClassifier, GradientBoostingClassifier  # ML models\n",
        "from sklearn.svm import SVC  # Support Vector Machine\n",
        "from sklearn.naive_bayes import MultinomialNB  # Naive Bayes classifier\n",
        "import gc\n",
        "\n",
        "\n",
        "# Download required NLTK resources\n",
        "nltk.download('punkt')\n",
        "nltk.download('wordnet')\n",
        "nltk.download('stopwords')"
      ]
    },
    {
      "cell_type": "markdown",
      "metadata": {
        "id": "pOrHxdKrp28l"
      },
      "source": [
        "**Dataset access**"
      ]
    },
    {
      "cell_type": "code",
      "execution_count": 2,
      "metadata": {
        "colab": {
          "base_uri": "https://localhost:8080/"
        },
        "id": "5xj5AFrMp8ZX",
        "outputId": "e8f6783d-d6e7-475b-af27-f76e1de5421d"
      },
      "outputs": [
        {
          "output_type": "stream",
          "name": "stdout",
          "text": [
            "Cloning into '7120CEM-Natural_Language_Processing'...\n",
            "remote: Enumerating objects: 54, done.\u001b[K\n",
            "remote: Counting objects: 100% (54/54), done.\u001b[K\n",
            "remote: Compressing objects: 100% (46/46), done.\u001b[K\n",
            "remote: Total 54 (delta 17), reused 34 (delta 8), pack-reused 0 (from 0)\u001b[K\n",
            "Receiving objects: 100% (54/54), 3.95 MiB | 14.04 MiB/s, done.\n",
            "Resolving deltas: 100% (17/17), done.\n"
          ]
        }
      ],
      "source": [
        "#clone github with access to the dataset\n",
        "!git clone https://github.com/akpanitorobong/7120CEM-Natural_Language_Processing.git"
      ]
    },
    {
      "cell_type": "code",
      "execution_count": 3,
      "metadata": {
        "colab": {
          "base_uri": "https://localhost:8080/"
        },
        "id": "qJKe8QF6qv_n",
        "outputId": "069d65d4-6361-454e-9335-d1f3c05fcb9b"
      },
      "outputs": [
        {
          "output_type": "stream",
          "name": "stdout",
          "text": [
            "2013 Training List ['twitter-2013dev-A.txt', 'twitter-2013test-A.txt', 'twitter-2013train-A.txt']\n",
            "2016 Training List ['twitter-2016train-A.txt', 'twitter-2016test-A.txt', 'twitter-2016dev-A.txt']\n",
            "Testing List ['SemEval2017-task4-test.subtask-A.english.txt']\n"
          ]
        }
      ],
      "source": [
        "valid_extensions = {\".txt\", \".csv\"}#extensions for dataset files\n",
        "\n",
        "#navigate to data\n",
        "train_path = \"/content/7120CEM-Natural_Language_Processing/dataset/train\"\n",
        "train_list =  os.listdir(train_path)\n",
        "train_list = [f for f in os.listdir(train_path) if os.path.splitext(f)[1] in valid_extensions]\n",
        "\n",
        "test_path = \"/content/7120CEM-Natural_Language_Processing/dataset/test\"\n",
        "test_list = os.listdir(test_path)\n",
        "test_list = [f for f in os.listdir(test_path) if os.path.splitext(f)[1] in valid_extensions]\n",
        "\n",
        "#create folder to store cleaned datasets for training and testing\n",
        "if not os.path.exists(\"preprocessed_datasets\"):\n",
        "    os.makedirs(\"preprocessed_datasets\")\n",
        "\n",
        "files_2013 = []\n",
        "files_2016 = []\n",
        "for file in train_list:\n",
        "    file_path = os.path.join(train_path, file)\n",
        "    if \"2013\" in file:\n",
        "        files_2013.append(file)\n",
        "    elif \"2016\" in file:\n",
        "        files_2016.append(file)\n",
        "\n",
        "\n",
        "#check file names\n",
        "print(\"2013 Training List\",files_2013)\n",
        "print(\"2016 Training List\",files_2016)\n",
        "print(\"Testing List\",test_list)"
      ]
    },
    {
      "cell_type": "markdown",
      "metadata": {
        "id": "x-0Bg3BH9BHC"
      },
      "source": [
        "# **2.) Preprocessing**"
      ]
    },
    {
      "cell_type": "markdown",
      "metadata": {
        "id": "7YwOVBExrAzM"
      },
      "source": [
        "**Inspect Dataset**"
      ]
    },
    {
      "cell_type": "code",
      "execution_count": 4,
      "metadata": {
        "colab": {
          "base_uri": "https://localhost:8080/"
        },
        "id": "pE5-gCyJrEGE",
        "outputId": "6e47df21-a623-4087-9300-0381c39c48cb"
      },
      "outputs": [
        {
          "output_type": "stream",
          "name": "stdout",
          "text": [
            "First 5 lines of twitter-2016train-A.txt:  [\"628949369883000832\\tnegative\\tdear @Microsoft the newOoffice for Mac is great and all, but no Lync update? C'mon.\\n\", \"628976607420645377\\tnegative\\t@Microsoft how about you make a system that doesn't eat my friggin discs. This is the 2nd time this has happened and I am so sick of it!\\n\", \"629023169169518592\\tnegative\\tI may be ignorant on this issue but... should we celebrate @Microsoft's parental leave changes? Doesn't the gender divide suggest... (1/2)\\n\", '629179223232479232\\tnegative\\tThanks to @microsoft, I just may be switching over to @apple.\\n', '629186282179153920\\tneutral\\tIf I make a game as a #windows10 Universal App. Will #xboxone owners be able to download and play it in November? @majornelson @Microsoft\\n']\n"
          ]
        }
      ],
      "source": [
        "#file to be inspected\n",
        "sample_file = train_list[0]\n",
        "sample_file_dir = train_path+\"/\"+sample_file\n",
        "\n",
        "#read file\n",
        "with open(sample_file_dir, \"r\", encoding=\"ascii\") as f:\n",
        "    lines = f.readlines()\n",
        "\n",
        "# Print first 5 lines to understand format\n",
        "print(\"First 5 lines of %s: \" %sample_file, lines[:5])"
      ]
    },
    {
      "cell_type": "markdown",
      "metadata": {
        "id": "Vp8p1mUUiJNk"
      },
      "source": [
        "**Clean text function**"
      ]
    },
    {
      "cell_type": "code",
      "execution_count": 5,
      "metadata": {
        "colab": {
          "base_uri": "https://localhost:8080/"
        },
        "id": "xsfN_pVziNeY",
        "outputId": "ad6b1767-8fe7-483e-88ec-8f10ea0c36fb"
      },
      "outputs": [
        {
          "output_type": "stream",
          "name": "stdout",
          "text": [
            "clean_text function defined successfully\n"
          ]
        }
      ],
      "source": [
        "# Initialize NLP tools\n",
        "lemmatizer = WordNetLemmatizer()\n",
        "stop_words = set(stopwords.words('english'))\n",
        "chat_words = {\n",
        "    \"AFAIK\": \"As Far As I Know\", \"AFK\": \"Away From Keyboard\", \"ASAP\": \"As Soon As Possible\", \"ATK\": \"At The Keyboard\",\n",
        "    \"ATM\": \"At The Moment\", \"A3\": \"Anytime, Anywhere, Anyplace\", \"BAK\": \"Back At Keyboard\", \"BBL\": \"Be Back Later\",\n",
        "    \"BBS\": \"Be Back Soon\", \"BFN\": \"Bye For Now\", \"B4N\": \"Bye For Now\", \"BRB\": \"Be Right Back\", \"BRT\": \"Be Right There\",\n",
        "    \"BTW\": \"By The Way\", \"B4\": \"Before\", \"CU\": \"See You\", \"CUL8R\": \"See You Later\", \"CYA\": \"See You\",\n",
        "    \"FAQ\": \"Frequently Asked Questions\", \"FC\": \"Fingers Crossed\", \"FWIW\": \"For What It's Worth\", \"FYI\": \"For Your Information\",\n",
        "    \"GAL\": \"Get A Life\", \"GG\": \"Good Game\", \"GN\": \"Good Night\", \"GMTA\": \"Great Minds Think Alike\", \"GR8\": \"Great!\",\n",
        "    \"G9\": \"Genius\", \"IC\": \"I See\", \"ICQ\": \"I Seek you\", \"ILU\": \"I Love You\", \"IMHO\": \"In My Honest/Humble Opinion\",\n",
        "    \"IMO\": \"In My Opinion\", \"IOW\": \"In Other Words\", \"IRL\": \"In Real Life\", \"KISS\": \"Keep It Simple, Stupid\",\n",
        "    \"LDR\": \"Long Distance Relationship\", \"LMAO\": \"Laugh My A.. Off\", \"LOL\": \"Laughing Out Loud\", \"LTNS\": \"Long Time No See\",\n",
        "    \"L8R\": \"Later\", \"MTE\": \"My Thoughts Exactly\", \"M8\": \"Mate\", \"NRN\": \"No Reply Necessary\", \"OIC\": \"Oh I See\",\n",
        "    \"PITA\": \"Pain In The A..\", \"PRT\": \"Party\", \"PRW\": \"Parents Are Watching\", \"QPSA?\": \"Que Pasa?\",\n",
        "    \"ROFL\": \"Rolling On The Floor Laughing\", \"ROFLOL\": \"Rolling On The Floor Laughing Out Loud\",\n",
        "    \"ROTFLMAO\": \"Rolling On The Floor Laughing My A.. Off\", \"SK8\": \"Skate\", \"STATS\": \"Your sex and age\", \"ASL\": \"Age, Sex, Location\",\n",
        "    \"THX\": \"Thank You\", \"TTFN\": \"Ta-Ta For Now!\", \"TTYL\": \"Talk To You Later\", \"U\": \"You\", \"U2\": \"You Too\",\n",
        "    \"U4E\": \"Yours For Ever\", \"WB\": \"Welcome Back\", \"WTF\": \"What The F...\", \"WTG\": \"Way To Go!\", \"WUF\": \"Where Are You From?\",\n",
        "    \"W8\": \"Wait...\", \"7K\": \"Sick:-D Laugher\", \"TFW\": \"That feeling when\", \"MFW\": \"My face when\", \"MRW\": \"My reaction when\",\n",
        "    \"IFYP\": \"I feel your pain\", \"TNTL\": \"Trying not to laugh\", \"JK\": \"Just kidding\", \"IDC\": \"I don’t care\", \"ILY\": \"I love you\",\n",
        "    \"IMU\": \"I miss you\", \"ADIH\": \"Another day in hell\", \"ZZZ\": \"Sleeping, bored, tired\", \"WYWH\": \"Wish you were here\",\n",
        "    \"TIME\": \"Tears in my eyes\", \"BAE\": \"Before anyone else\", \"FIMH\": \"Forever in my heart\", \"BSAAW\": \"Big smile and a wink\",\n",
        "    \"BWL\": \"Bursting with laughter\", \"BFF\": \"Best friends forever\", \"CSL\": \"Can’t stop laughing\"\n",
        "}\n",
        "\n",
        "# Dictionary of Unicode escape sequences and their replacements\n",
        "unicode_replacements = {\n",
        "    \"\\\\u002c\": \",\",\n",
        "    \"\\\\u002e\": \".\",\n",
        "    \"\\\\u003a\": \":\",\n",
        "    \"\\\\u003b\": \";\",\n",
        "    \"\\\\u0021\": \"!\",\n",
        "    \"\\\\u003f\": \"?\",\n",
        "    \"\\\\u0027\": \"'\",\n",
        "    \"\\\\u0022\": '\"',\n",
        "    \"\\\\u002d\": \"-\",\n",
        "    \"\\\\u2019\": \"’\",\n",
        "    \"\\\\u201c\": \"“\",\n",
        "    \"\\\\u201d\": \"”\",\n",
        "    \"\\\\u2014\": \"—\",\n",
        "    \"\\\\u2026\": \"…\"\n",
        "}\n",
        "\n",
        "# Function to clean text\n",
        "def clean_text(text):\n",
        "    for unicode_code, char in unicode_replacements.items():\n",
        "        text = text.replace(unicode_code, char)\n",
        "\n",
        "    text = text.lower()  # Convert to lowercase\n",
        "    text = contractions.fix(text)  # Expand contractions first\n",
        "    text = emoji.demojize(text)  # Convert emojis to text\n",
        "    text = re.sub(r\"(https?://\\S+|www\\.\\S+)\", \"\", text)  # Remove URLs\n",
        "    text = re.sub(r\"[“”’]\", \"'\", text)  # Normalize fancy quotes\n",
        "    text = re.sub(r\"[^\\w\\s']\", \"\", text)  # Remove unwanted punctuation but keep apostrophes\n",
        "    text = re.sub(r'([aeiou])\\1{2,}', r'\\1\\1', text)  # Reduce excessive vowels\n",
        "    text = BeautifulSoup(text, \"html.parser\").get_text()  # Remove HTML tags\n",
        "    text = text.strip()  # Remove leading/trailing spaces\n",
        "    text = re.sub(r'\\s+', ' ', text)  # Replace multiple spaces with a single space\n",
        "\n",
        "    words = text.split()\n",
        "    words = [chat_words.get(word, word) for word in words]  # Expand chat words\n",
        "    words = [lemmatizer.lemmatize(word) for word in words if word not in stop_words]  # Lemmatization & Stopword removal\n",
        "\n",
        "    return \" \".join(words)\n",
        "\n",
        "print (\"clean_text function defined successfully\")"
      ]
    },
    {
      "cell_type": "markdown",
      "metadata": {
        "id": "mihdHzDziVpS"
      },
      "source": [
        "**Clean dataset, combine and re-store**"
      ]
    },
    {
      "cell_type": "code",
      "execution_count": 6,
      "metadata": {
        "colab": {
          "base_uri": "https://localhost:8080/"
        },
        "id": "WnYsPodMiU7j",
        "outputId": "350095c3-2a5d-4e2c-8165-b53f0f0a3a86"
      },
      "outputs": [
        {
          "output_type": "stream",
          "name": "stdout",
          "text": [
            "load_and_preprocess_data function defined successfully\n"
          ]
        }
      ],
      "source": [
        "def load_and_preprocess_data(files, folder):\n",
        "    \"\"\"\n",
        "    Loads and preprocesses text data from multiple files.\n",
        "\n",
        "    - Attempts to read each file using ASCII encoding first.\n",
        "    - Falls back to UTF-8 encoding if ASCII fails (handles mixed encoding files).\n",
        "    - Splits each line using tab (`\\t`) to extract labels and text.\n",
        "    - Applies a text-cleaning function to preprocess text.\n",
        "\n",
        "    Args:\n",
        "        files (list): List of filenames to process.\n",
        "        folder (str): Path to the folder containing the files.\n",
        "\n",
        "    Returns:\n",
        "        pd.DataFrame: DataFrame with 'text' and 'label' columns.\n",
        "    \"\"\"\n",
        "\n",
        "    all_texts, all_labels = [], []  # Lists to store extracted text and labels\n",
        "\n",
        "    for file in files:\n",
        "        file_path = os.path.join(folder, file)  # Full file path\n",
        "\n",
        "        # Attempt to read the file in ASCII first\n",
        "        try:\n",
        "            with open(file_path, \"r\", encoding=\"ascii\") as f:\n",
        "                lines = f.readlines()  # Read all lines at once\n",
        "        except UnicodeDecodeError:\n",
        "            # If ASCII fails, retry with UTF-8\n",
        "            with open(file_path, \"r\", encoding=\"utf-8\") as f:\n",
        "                lines = f.readlines()\n",
        "\n",
        "        # Process each line in the file\n",
        "        for line in lines:\n",
        "            parts = line.strip().split(\"\\t\")  # Split on tab characters\n",
        "\n",
        "            # Ensure there are at least 3 parts (index 1 = label, index 2+ = text)\n",
        "            if len(parts) >= 3:\n",
        "                label = parts[1]  # Extract label\n",
        "                # If there are multiple text fields, join them back with tabs\n",
        "                text = '\\t'.join(parts[2:]) if len(parts) > 3 else parts[2]\n",
        "\n",
        "                text = clean_text(text)  # Apply text cleaning function\n",
        "\n",
        "                all_texts.append(text)\n",
        "                all_labels.append(label)\n",
        "\n",
        "    # Convert lists to a Pandas DataFrame\n",
        "    return pd.DataFrame({\"text\": all_texts, \"label\": all_labels})\n",
        "\n",
        "print (\"load_and_preprocess_data function defined successfully\")"
      ]
    },
    {
      "cell_type": "markdown",
      "metadata": {
        "id": "9NSeGsBtZzMu"
      },
      "source": [
        "**Load cleaned training data**"
      ]
    },
    {
      "cell_type": "code",
      "execution_count": 7,
      "metadata": {
        "colab": {
          "base_uri": "https://localhost:8080/"
        },
        "id": "ZcshOLSqSLBv",
        "outputId": "6eb9f570-fd6b-461d-8b44-40a182b18095"
      },
      "outputs": [
        {
          "output_type": "stream",
          "name": "stdout",
          "text": [
            "(14885, 2)\n",
            "Sample Processed Text(2013 data): \n",
            "0    match getin plus tomorrow busy day awareness d...\n",
            "1    area new england could see first flake season ...\n",
            "2    francesco_con40 2nd worst qb definitely tony r...\n",
            "3    thailand washington u president barack obama v...\n",
            "4    hear tony romo dressed halloween giant quaterb...\n",
            "Name: text, dtype: object\n",
            "(28631, 2)\n",
            "Sample Processed Text(2016 data): \n",
            "0    dear microsoft newooffice mac great lync updat...\n",
            "1    microsoft make system eat friggin disc 2nd tim...\n",
            "2    may ignorant issue celebrate microsoft's paren...\n",
            "3                 thanks microsoft may switching apple\n",
            "4    make game windows10 universal app xboxone owne...\n",
            "Name: text, dtype: object\n"
          ]
        }
      ],
      "source": [
        "# Load cleaned training data\n",
        "df_2013 = load_and_preprocess_data(files_2013, train_path)\n",
        "df_2016 = load_and_preprocess_data(files_2016, train_path)\n",
        "df_2013.to_csv(\"preprocessed_datasets/2013_data.csv\", index=False)\n",
        "df_2016.to_csv(\"preprocessed_datasets/2016_data.csv\", index=False)\n",
        "print(df_2013.shape)\n",
        "print(\"Sample Processed Text(2013 data):\", \"\\n%s\" %df_2013[\"text\"].head())\n",
        "print(df_2016.shape)\n",
        "print(\"Sample Processed Text(2016 data):\", \"\\n%s\" %df_2016[\"text\"].head())"
      ]
    },
    {
      "cell_type": "markdown",
      "metadata": {
        "id": "Kl3EhyeeaHIO"
      },
      "source": [
        "**Load cleaned testing data**"
      ]
    },
    {
      "cell_type": "code",
      "execution_count": 8,
      "metadata": {
        "colab": {
          "base_uri": "https://localhost:8080/"
        },
        "id": "QgpBnVtMVIw-",
        "outputId": "5cd782ab-2c65-4d45-9fbc-210bd00f3111"
      },
      "outputs": [
        {
          "output_type": "stream",
          "name": "stdout",
          "text": [
            "(12284, 2)\n",
            "Sample Processed Text: \n",
            "0    arianagrande ari ariana grande 80 full singer ...\n",
            "1    ariana grande kiis fm truly cd listening party...\n",
            "2    ariana grande white house easter egg roll wash...\n",
            "3    cd music ariana grande sweet like candy 34 oz ...\n",
            "4    side side face_blowing_a_kiss arianagrande sid...\n",
            "Name: text, dtype: object\n"
          ]
        }
      ],
      "source": [
        "#load cleaned testing data\n",
        "test_df = load_and_preprocess_data(test_list, test_path)\n",
        "test_df.to_csv(\"preprocessed_datasets/cleaned_test_data.csv\", index=False)\n",
        "print(test_df.shape)\n",
        "print(\"Sample Processed Text:\", \"\\n%s\" %test_df[\"text\"].head())"
      ]
    },
    {
      "cell_type": "markdown",
      "metadata": {
        "id": "5MIfNSuncJdN"
      },
      "source": [
        "**Label Encoding**"
      ]
    },
    {
      "cell_type": "code",
      "execution_count": 9,
      "metadata": {
        "colab": {
          "base_uri": "https://localhost:8080/"
        },
        "id": "0E7gsqzCcUcI",
        "outputId": "348d21eb-7052-4b6d-c207-33f754cfb4dc"
      },
      "outputs": [
        {
          "output_type": "stream",
          "name": "stdout",
          "text": [
            "labels successfully encoded\n"
          ]
        }
      ],
      "source": [
        "# Encode labels: {\"neutral\": 0, \"positive\": 1, \"negative\": 2}\n",
        "label_mapping = {\"neutral\": 0, \"positive\": 1, \"negative\": 2}\n",
        "df_2013[\"label_num\"] = df_2013[\"label\"].map(label_mapping)\n",
        "df_2016[\"label_num\"] = df_2016[\"label\"].map(label_mapping)\n",
        "test_df[\"label_num\"] = test_df[\"label\"].map(label_mapping)\n",
        "print (\"labels successfully encoded\")"
      ]
    },
    {
      "cell_type": "markdown",
      "metadata": {
        "id": "mwl-mIbPwQWa"
      },
      "source": [
        "**Check for duplicates**"
      ]
    },
    {
      "cell_type": "code",
      "execution_count": 10,
      "metadata": {
        "colab": {
          "base_uri": "https://localhost:8080/"
        },
        "id": "hLlOqt-jwqlc",
        "outputId": "5717cecf-fc6a-4ebb-9b1d-3902cc02a245"
      },
      "outputs": [
        {
          "output_type": "stream",
          "name": "stdout",
          "text": [
            "Number of duplicate rows in 2013 data: 112\n",
            "Number of rows before removal: 14885\n",
            "\n",
            "Number of duplicate rows in 2016 data: 125\n",
            "Number of rows before removal: 28631\n",
            "\n",
            "Number of duplicate rows in test data: 8\n",
            "Number of rows before removal: 12284\n"
          ]
        }
      ],
      "source": [
        "# Count duplicate rows\n",
        "print(f\"Number of duplicate rows in 2013 data: {df_2013.duplicated().sum()}\")\n",
        "print(f\"Number of rows before removal: {len(df_2013)}\\n\")\n",
        "\n",
        "print(f\"Number of duplicate rows in 2016 data: {df_2016.duplicated().sum()}\")\n",
        "print(f\"Number of rows before removal: {len(df_2016)}\\n\")\n",
        "\n",
        "print(f\"Number of duplicate rows in test data: {test_df.duplicated().sum()}\")\n",
        "print(f\"Number of rows before removal: {len(test_df)}\")"
      ]
    },
    {
      "cell_type": "markdown",
      "metadata": {
        "id": "7MnOQC3ywYU-"
      },
      "source": [
        "**Remove duplicates**"
      ]
    },
    {
      "cell_type": "code",
      "execution_count": 11,
      "metadata": {
        "colab": {
          "base_uri": "https://localhost:8080/"
        },
        "id": "vR_K_n5owuWl",
        "outputId": "13d21914-1979-4099-eb4a-4e2107873959"
      },
      "outputs": [
        {
          "output_type": "stream",
          "name": "stdout",
          "text": [
            "Number of duplicate rows in 2013 data: 0\n",
            "Number of rows after removal: 14773\n",
            "\n",
            "Number of duplicate rows in 2016 data: 0\n",
            "Number of rows after removal: 28506\n",
            "\n",
            "Number of duplicate rows in test data: 0\n",
            "Number of rows after removal: 12276\n"
          ]
        }
      ],
      "source": [
        "# Remove duplicate rows and reset index\n",
        "df_2013_cleaned = df_2013.drop_duplicates().reset_index(drop=True)\n",
        "df_2016_cleaned = df_2016.drop_duplicates().reset_index(drop=True)\n",
        "test_df_cleaned = test_df.drop_duplicates().reset_index(drop=True)\n",
        "\n",
        "# Verify removal\n",
        "print(f\"Number of duplicate rows in 2013 data: {df_2013_cleaned.duplicated().sum()}\")\n",
        "print(f\"Number of rows after removal: {len(df_2013_cleaned)}\\n\")\n",
        "\n",
        "print(f\"Number of duplicate rows in 2016 data: {df_2016_cleaned.duplicated().sum()}\")\n",
        "print(f\"Number of rows after removal: {len(df_2016_cleaned)}\\n\")\n",
        "\n",
        "print(f\"Number of duplicate rows in test data: {test_df_cleaned.duplicated().sum()}\")\n",
        "print(f\"Number of rows after removal: {len(test_df_cleaned)}\")"
      ]
    },
    {
      "cell_type": "markdown",
      "metadata": {
        "id": "fgC62JrIbDq3"
      },
      "source": [
        "**Check for missing values**"
      ]
    },
    {
      "cell_type": "code",
      "execution_count": 12,
      "metadata": {
        "colab": {
          "base_uri": "https://localhost:8080/"
        },
        "id": "b_6ELNy_bN7G",
        "outputId": "2454c203-a2c2-4c3e-d5ae-a283a419fb02"
      },
      "outputs": [
        {
          "output_type": "stream",
          "name": "stdout",
          "text": [
            "Missing values in 2013 data:\n",
            "text         0\n",
            "label        0\n",
            "label_num    0\n",
            "dtype: int64\n",
            "\n",
            "Missing values in 2016 data:\n",
            "text         0\n",
            "label        0\n",
            "label_num    0\n",
            "dtype: int64\n",
            "\n",
            "Missing values in test data:\n",
            "text         0\n",
            "label        0\n",
            "label_num    0\n",
            "dtype: int64\n"
          ]
        }
      ],
      "source": [
        "# Check for missing values\n",
        "print(\"Missing values in 2013 data:\")\n",
        "print(df_2013_cleaned.isnull().sum())\n",
        "\n",
        "print(\"\\nMissing values in 2016 data:\")\n",
        "print(df_2016_cleaned.isnull().sum())\n",
        "\n",
        "print(\"\\nMissing values in test data:\")\n",
        "print(test_df_cleaned.isnull().sum())"
      ]
    },
    {
      "cell_type": "markdown",
      "metadata": {
        "id": "DEcme6Bhb4Cj"
      },
      "source": [
        "# **3.) Data Visualization**"
      ]
    },
    {
      "cell_type": "markdown",
      "metadata": {
        "id": "CTA5gF_s3RrI"
      },
      "source": [
        "**2013 Data distribution**"
      ]
    },
    {
      "cell_type": "code",
      "execution_count": 13,
      "metadata": {
        "colab": {
          "base_uri": "https://localhost:8080/"
        },
        "id": "F7ci2jLs3Q0-",
        "outputId": "3a14ada5-abc2-4356-aabe-d3b9338d80f3"
      },
      "outputs": [
        {
          "output_type": "stream",
          "name": "stdout",
          "text": [
            "Sentiment distribution in 2013 data\n",
            "   Sentiment  Count\n",
            "0   neutral   6772\n",
            "1  positive   5658\n",
            "2  negative   2343\n"
          ]
        }
      ],
      "source": [
        "# Get sentiment class counts\n",
        "sentiment_counts_2013 = df_2013_cleaned['label'].value_counts()\n",
        "\n",
        "# Convert to a DataFrame for better visualization\n",
        "sentiment_df = pd.DataFrame({'Sentiment': sentiment_counts_2013.index, 'Count': sentiment_counts_2013.values})\n",
        "\n",
        "# Display the DataFrame\n",
        "print(\"Sentiment distribution in 2013 data\\n\",sentiment_df)\n",
        "sentiment_df.to_csv(\"sentiment_counts_2013.csv\", index=False)"
      ]
    },
    {
      "cell_type": "markdown",
      "metadata": {
        "id": "aiJO4Ky34k1x"
      },
      "source": [
        "**2016 Data distribution**"
      ]
    },
    {
      "cell_type": "code",
      "execution_count": 14,
      "metadata": {
        "colab": {
          "base_uri": "https://localhost:8080/"
        },
        "id": "ODOCF_AQ5Bbk",
        "outputId": "467e1bb2-7f6e-48d8-b0f4-f48a0cba8987"
      },
      "outputs": [
        {
          "output_type": "stream",
          "name": "stdout",
          "text": [
            "Sentiment distribution in 2016 data\n",
            "   Sentiment  Count\n",
            "0   neutral  13088\n",
            "1  positive  10958\n",
            "2  negative   4460\n"
          ]
        }
      ],
      "source": [
        "sentiment_counts_2016 = df_2016_cleaned['label'].value_counts()\n",
        "sentiment_df = pd.DataFrame({'Sentiment': sentiment_counts_2016.index, 'Count': sentiment_counts_2016.values})\n",
        "print(\"Sentiment distribution in 2016 data\\n\",sentiment_df)\n",
        "sentiment_df.to_csv(\"sentiment_counts_2016.csv\", index=False)"
      ]
    },
    {
      "cell_type": "markdown",
      "metadata": {
        "id": "nBl_tzZo6KzA"
      },
      "source": [
        "**2017 Data distribution**"
      ]
    },
    {
      "cell_type": "code",
      "execution_count": 15,
      "metadata": {
        "colab": {
          "base_uri": "https://localhost:8080/"
        },
        "id": "SXDImcus6O02",
        "outputId": "fcd683d8-1647-49ba-b964-d6c03aeccf21"
      },
      "outputs": [
        {
          "output_type": "stream",
          "name": "stdout",
          "text": [
            "Sentiment distribution in test data\n",
            "   Sentiment  Count\n",
            "0   neutral   5931\n",
            "1  negative   3970\n",
            "2  positive   2375\n"
          ]
        }
      ],
      "source": [
        "sentiment_counts_test = test_df_cleaned['label'].value_counts()\n",
        "sentiment_df = pd.DataFrame({'Sentiment': sentiment_counts_test.index, 'Count': sentiment_counts_test.values})\n",
        "print(\"Sentiment distribution in test data\\n\",sentiment_df)\n",
        "sentiment_df.to_csv(\"sentiment_counts_test.csv\", index=False)"
      ]
    },
    {
      "cell_type": "markdown",
      "metadata": {
        "id": "rxUkH-XFa0Se"
      },
      "source": [
        "**2013 data class distribution plot**"
      ]
    },
    {
      "cell_type": "code",
      "execution_count": 16,
      "metadata": {
        "colab": {
          "base_uri": "https://localhost:8080/",
          "height": 0
        },
        "id": "PzlbprMYa0_v",
        "outputId": "46f0ebb1-b93c-496d-a17f-dd7742398a98"
      },
      "outputs": [
        {
          "output_type": "display_data",
          "data": {
            "text/plain": [
              "<Figure size 600x400 with 1 Axes>"
            ],
            "image/png": "[encoded data removed]"
          },
          "metadata": {}
        }
      ],
      "source": [
        "# Plot sentiment distribution\n",
        "plt.figure(figsize=(6,4))\n",
        "sns.countplot(x=df_2013_cleaned['label'], palette=\"bright\", hue=df_2013_cleaned['label'])\n",
        "plt.title(\"Sentiment Distribution in Training Data\")\n",
        "plt.xlabel(\"Sentiment Labels\")\n",
        "plt.ylabel(\"Count\")\n",
        "plt.show()"
      ]
    },
    {
      "cell_type": "markdown",
      "metadata": {
        "id": "3naX6q-26ckW"
      },
      "source": [
        "**2016 data class distribution plot**"
      ]
    },
    {
      "cell_type": "code",
      "execution_count": 17,
      "metadata": {
        "colab": {
          "base_uri": "https://localhost:8080/",
          "height": 0
        },
        "outputId": "ad8bfd46-dd5b-4e60-a6ad-3ad5e4c55973",
        "id": "Q6D7LI0a6ckX"
      },
      "outputs": [
        {
          "output_type": "display_data",
          "data": {
            "text/plain": [
              "<Figure size 600x400 with 1 Axes>"
            ],
            "image/png": "[encoded data removed]"
          },
          "metadata": {}
        }
      ],
      "source": [
        "# Plot sentiment distribution\n",
        "plt.figure(figsize=(6,4))\n",
        "sns.countplot(x=df_2016_cleaned['label'], palette=\"bright\", hue=df_2016_cleaned['label'])\n",
        "plt.title(\"Sentiment Distribution in 2016 Data\")\n",
        "plt.xlabel(\"Sentiment Labels\")\n",
        "plt.ylabel(\"Count\")\n",
        "plt.show()"
      ]
    },
    {
      "cell_type": "markdown",
      "metadata": {
        "id": "5JNOda7sbA4O"
      },
      "source": [
        "**2013 data tweet length distribution**"
      ]
    },
    {
      "cell_type": "code",
      "execution_count": 18,
      "metadata": {
        "colab": {
          "base_uri": "https://localhost:8080/",
          "height": 0
        },
        "id": "WtRsBqP5bEIb",
        "outputId": "7e486c20-5bb2-43e2-964c-b174800cf738"
      },
      "outputs": [
        {
          "output_type": "display_data",
          "data": {
            "text/plain": [
              "<Figure size 600x400 with 1 Axes>"
            ],
            "image/png": "[encoded data removed]"
          },
          "metadata": {}
        }
      ],
      "source": [
        "# Analyze tweet length distribution\n",
        "df_2013_cleaned['text_length'] = df_2013_cleaned['text'].apply(len)\n",
        "\n",
        "# Plot histogram of tweet lengths\n",
        "plt.figure(figsize=(6,4))\n",
        "sns.histplot(df_2013_cleaned['text_length'], bins=30, kde=True, color='blue')\n",
        "plt.title(\"Distribution of Tweet 2013 Lengths\")\n",
        "plt.xlabel(\"Tweet Length\")\n",
        "plt.ylabel(\"Frequency\")\n",
        "plt.show()"
      ]
    },
    {
      "cell_type": "markdown",
      "source": [
        "**2016 data tweet length distribution**"
      ],
      "metadata": {
        "id": "E3GCuJHa7Lfk"
      }
    },
    {
      "cell_type": "code",
      "source": [
        "# Analyze tweet length distribution\n",
        "df_2016_cleaned['text_length'] = df_2016_cleaned['text'].apply(len)\n",
        "\n",
        "# Plot histogram of tweet lengths\n",
        "plt.figure(figsize=(6,4))\n",
        "sns.histplot(df_2016_cleaned['text_length'], bins=30, kde=True, color='blue')\n",
        "plt.title(\"Distribution of Tweet 2016 Lengths\")\n",
        "plt.xlabel(\"Tweet Length\")\n",
        "plt.ylabel(\"Frequency\")\n",
        "plt.show()"
      ],
      "metadata": {
        "id": "jX5dmFZc7U01",
        "outputId": "ee74e84b-f769-4c36-89d5-dde3aaf633fc",
        "colab": {
          "base_uri": "https://localhost:8080/",
          "height": 0
        }
      },
      "execution_count": 19,
      "outputs": [
        {
          "output_type": "display_data",
          "data": {
            "text/plain": [
              "<Figure size 600x400 with 1 Axes>"
            ],
            "image/png": "[encoded data removed]"
          },
          "metadata": {}
        }
      ]
    },
    {
      "cell_type": "markdown",
      "metadata": {
        "id": "aitMcu95Nnhg"
      },
      "source": [
        "# **4.) ML Model(With Feature Extraction and Class Balancing)**"
      ]
    },
    {
      "cell_type": "code",
      "execution_count": 20,
      "metadata": {
        "colab": {
          "base_uri": "https://localhost:8080/"
        },
        "id": "WDOmYyfEpzhM",
        "outputId": "ef5d5c66-fc98-4553-b46c-25c90d2aebf1"
      },
      "outputs": [
        {
          "output_type": "stream",
          "name": "stdout",
          "text": [
            "\n",
            "Training models using BoW representation...\n",
            "\n",
            "Training Random Forest on 2013 data...\n",
            "Training Random Forest on 2016 data...\n",
            "\n",
            "Training Gradient Boosting on 2013 data...\n",
            "Training Gradient Boosting on 2016 data...\n",
            "\n",
            "Training SVM on 2013 data...\n",
            "Training SVM on 2016 data...\n",
            "\n",
            "Training Logistic Regression on 2013 data...\n",
            "Training Logistic Regression on 2016 data...\n",
            "\n",
            "Training Naïve Bayes on 2013 data...\n",
            "Training Naïve Bayes on 2016 data...\n",
            "\n",
            "Training models using TF-IDF representation...\n",
            "\n",
            "Training Random Forest on 2013 data...\n",
            "Training Random Forest on 2016 data...\n",
            "\n",
            "Training Gradient Boosting on 2013 data...\n",
            "Training Gradient Boosting on 2016 data...\n",
            "\n",
            "Training SVM on 2013 data...\n",
            "Training SVM on 2016 data...\n",
            "\n",
            "Training Logistic Regression on 2013 data...\n",
            "Training Logistic Regression on 2016 data...\n",
            "\n",
            "Training Naïve Bayes on 2013 data...\n",
            "Training Naïve Bayes on 2016 data...\n",
            "\n",
            "Model performance results saved in 'model_performance.csv'.\n"
          ]
        }
      ],
      "source": [
        "train_df_2013 = df_2013_cleaned\n",
        "train_df_2016 = df_2016_cleaned\n",
        "\n",
        "# Feature Representation: BoW & TF-IDF (Unigram + Bigram)\n",
        "vectorizers = {\n",
        "    \"BoW\": CountVectorizer(ngram_range=(1, 2), max_features=5000),\n",
        "    \"TF-IDF\": TfidfVectorizer(ngram_range=(1, 2), max_features=5000)\n",
        "}\n",
        "\n",
        "# Dictionary to store models & their performances\n",
        "results = {}\n",
        "\n",
        "for feature_type, vectorizer in vectorizers.items():\n",
        "    print(f\"\\nTraining models using {feature_type} representation...\")\n",
        "\n",
        "    # Transform text data into feature matrices\n",
        "    X_train_2013 = vectorizer.fit_transform(train_df_2013[\"text\"])\n",
        "    X_train_2016 = vectorizer.fit_transform(train_df_2016[\"text\"])\n",
        "    X_test = vectorizer.transform(test_df[\"text\"])\n",
        "\n",
        "    y_train_2013 = train_df_2013[\"label_num\"]\n",
        "    y_train_2016 = train_df_2016[\"label_num\"]\n",
        "    y_test = test_df[\"label_num\"]\n",
        "\n",
        "    # Dataset Balancing (Random Oversampling)\n",
        "    ros = RandomOverSampler(random_state=42)\n",
        "    X_train_2013_bal, y_train_2013_bal = ros.fit_resample(X_train_2013, y_train_2013)\n",
        "    X_train_2016_bal, y_train_2016_bal = ros.fit_resample(X_train_2016, y_train_2016)\n",
        "\n",
        "    # Machine Learning Models\n",
        "    models = {\n",
        "        \"Random Forest\": RandomForestClassifier(n_estimators=100, random_state=42),\n",
        "        \"Gradient Boosting\": GradientBoostingClassifier(n_estimators=100, random_state=42),\n",
        "        \"SVM\": SVC(kernel=\"linear\"),\n",
        "        \"Logistic Regression\": LogisticRegression(max_iter=1000),\n",
        "        \"Naïve Bayes\": MultinomialNB()\n",
        "    }\n",
        "\n",
        "    # Train and evaluate models\n",
        "    for model_name, model in models.items():\n",
        "        print(f\"\\nTraining {model_name} on 2013 data...\")\n",
        "        model.fit(X_train_2013_bal, y_train_2013_bal)\n",
        "        y_pred_2013 = model.predict(X_test)\n",
        "        acc_2013 = accuracy_score(y_test, y_pred_2013)\n",
        "        f1_2013 = classification_report(y_test, y_pred_2013, output_dict=True)[\"macro avg\"][\"f1-score\"]\n",
        "\n",
        "        print(f\"Training {model_name} on 2016 data...\")\n",
        "        model.fit(X_train_2016_bal, y_train_2016_bal)\n",
        "        y_pred_2016 = model.predict(X_test)\n",
        "        acc_2016 = accuracy_score(y_test, y_pred_2016)\n",
        "        f1_2016 = classification_report(y_test, y_pred_2016, output_dict=True)[\"macro avg\"][\"f1-score\"]\n",
        "\n",
        "        # Store results\n",
        "        results[(feature_type, model_name)] = {\n",
        "            \"2013 Accuracy\": acc_2013,\n",
        "            \"2016 F1 Score\": f1_2013,\n",
        "            \"2013 Accuracy\": acc_2016,\n",
        "            \"2016 F1 Score\": f1_2016,\n",
        "            \"Perf Drop\": f1_2013 - f1_2016  # Shows degradation over time\n",
        "        }\n",
        "\n",
        "# Convert results to DataFrame and save\n",
        "results_df = pd.DataFrame.from_dict(results, orient=\"index\")\n",
        "results_df.to_csv(\"model_performance.csv\")\n",
        "print(\"\\nModel performance results saved in 'model_performance.csv'.\")"
      ]
    }
  ],
  "metadata": {
    "colab": {
      "collapsed_sections": [
        "cXam3Ak2fgt8",
        "x-0Bg3BH9BHC"
      ],
      "provenance": [],
      "authorship_tag": "ABX9TyP6NF84woPIQ2g67vt++1H2",
      "include_colab_link": true
    },
    "kernelspec": {
      "display_name": "Python 3",
      "name": "python3"
    },
    "language_info": {
      "name": "python"
    }
  },
  "nbformat": 4,
  "nbformat_minor": 0
}